{
 "cells": [
  {
   "cell_type": "markdown",
   "id": "73cf4004",
   "metadata": {},
   "source": [
    "# Data Science Tools and Ecosystem"
   ]
  },
  {
   "cell_type": "markdown",
   "id": "a97d731d",
   "metadata": {},
   "source": [
    "## In this notebook, Data Science Tools and Ecosystem are summarized."
   ]
  },
  {
   "cell_type": "markdown",
   "id": "e1efd7f1",
   "metadata": {},
   "source": [
    "Objectives: \n",
    "*  List popular languages for Data Science\n",
    "*  List commonly used libraries for Data Science \n",
    "*  Create a code cell to multiply and add numbers"
   ]
  },
  {
   "cell_type": "markdown",
   "id": "8b077ef7",
   "metadata": {},
   "source": [
    "### Some of the popular languages that Data Scientists use are:\n"
   ]
  },
  {
   "cell_type": "markdown",
   "id": "c6d97537",
   "metadata": {},
   "source": [
    "1. Python\n",
    "2. R\n",
    "3. SQL\n",
    "4. Java"
   ]
  },
  {
   "cell_type": "markdown",
   "id": "8ae641b6",
   "metadata": {},
   "source": [
    "### Some of the commonly used libraries used by Data Scientists include:\n"
   ]
  },
  {
   "cell_type": "markdown",
   "id": "7cd2570e",
   "metadata": {},
   "source": [
    "1. TensorFlow.\n",
    "2. NumPy.\n",
    "3. SciPy.\n",
    "4. Pandas.\n",
    "5. Matplotlib."
   ]
  },
  {
   "cell_type": "markdown",
   "id": "1be2b68b",
   "metadata": {},
   "source": [
    "| Data Science Tools | \n",
    "|--------------------|\n",
    "| RStudio            |\n",
    "| Apache Spark       |\n",
    "| Apache Hadoop      |"
   ]
  },
  {
   "cell_type": "markdown",
   "id": "a7c09d6a",
   "metadata": {},
   "source": [
    "### Below are a few examples of evaluating arithmetic expressions in Python.\n"
   ]
  },
  {
   "cell_type": "code",
   "execution_count": 2,
   "id": "61ea6d64",
   "metadata": {},
   "outputs": [
    {
     "data": {
      "text/plain": [
       "17"
      ]
     },
     "execution_count": 2,
     "metadata": {},
     "output_type": "execute_result"
    }
   ],
   "source": [
    "# This a simple arithmetic expression to mutiply then add integers\n",
    "(3*4)+5"
   ]
  },
  {
   "cell_type": "code",
   "execution_count": 3,
   "id": "4daf0d8a",
   "metadata": {},
   "outputs": [
    {
     "data": {
      "text/plain": [
       "3.3333333333333335"
      ]
     },
     "execution_count": 3,
     "metadata": {},
     "output_type": "execute_result"
    }
   ],
   "source": [
    "# This will convert 200 minutes to hours by diving by 60\n",
    "200 / 60"
   ]
  },
  {
   "cell_type": "markdown",
   "id": "617a12da",
   "metadata": {},
   "source": [
    "## Author:\n",
    "# Yash Bedagkar"
   ]
  },
  {
   "cell_type": "code",
   "execution_count": null,
   "id": "d3a80997",
   "metadata": {},
   "outputs": [],
   "source": []
  }
 ],
 "metadata": {
  "kernelspec": {
   "display_name": "Python 3 (ipykernel)",
   "language": "python",
   "name": "python3"
  },
  "language_info": {
   "codemirror_mode": {
    "name": "ipython",
    "version": 3
   },
   "file_extension": ".py",
   "mimetype": "text/x-python",
   "name": "python",
   "nbconvert_exporter": "python",
   "pygments_lexer": "ipython3",
   "version": "3.9.12"
  }
 },
 "nbformat": 4,
 "nbformat_minor": 5
}
